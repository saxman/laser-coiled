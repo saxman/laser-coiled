{
 "cells": [
  {
   "cell_type": "markdown",
   "metadata": {},
   "source": [
    "# Calibrating LASER-based Models with Optuna and Coiled\n",
    "\n",
    "In this notebook, we'll show you how to calibrate a LASER-based model using [Optuna](https://optuna.org/), and scaling the calibration to the cloud using [Coiled](https://www.coiled.io/).\n",
    "\n",
    "The information from the notebook was derived form the following sources:\n",
    "- [Coiled Hyperparameter Optimization w/Optuna Example](https://docs.coiled.io/user_guide/hpo.html)\n",
    "- [Detailed Coiled+Optuna Examples](https://docs.coiled.io/user_guide/xgboost-hpo.html)\n",
    "- [GitHub Repository for Coiled+Optuna Examples](https://github.com/coiled/dask-xgboost-nyctaxi)\n",
    "- [Starsim Coiled Exploration](https://github.com/starsimhub/starsim_compute_scaling/tree/main/platforms)\n",
    "- [Katherine's Ax Example](https://github.com/krosenfeld-IDM/sandbox-botorch/blob/main/laser/london/run_service.py)\n",
    "- [Optuna with K8s (for comparison)](https://github.com/optuna/optuna-examples/tree/main/kubernetes/simple)"
   ]
  },
  {
   "cell_type": "markdown",
   "metadata": {},
   "source": [
    "### 1. Set up the cluster"
   ]
  },
  {
   "cell_type": "code",
   "execution_count": null,
   "metadata": {},
   "outputs": [],
   "source": [
    "import coiled\n",
    "\n",
    "cluster = coiled.Cluster(n_workers=20, name=\"laser-coiled-optuna\")\n",
    "client = cluster.get_client()"
   ]
  },
  {
   "cell_type": "markdown",
   "metadata": {},
   "source": [
    "### 2. Set up the study"
   ]
  },
  {
   "cell_type": "code",
   "execution_count": null,
   "metadata": {},
   "outputs": [],
   "source": [
    "import optuna\n",
    "\n",
    "backend_storage = optuna.storages.InMemoryStorage()\n",
    "dask_storage = optuna.integration.DaskStorage(storage=backend_storage)\n",
    "\n",
    "study = optuna.create_study(\n",
    "    direction=\"maximize\",\n",
    "    storage=dask_storage,\n",
    "    sampler=optuna.samplers.RandomSampler(),\n",
    ")"
   ]
  },
  {
   "cell_type": "code",
   "execution_count": null,
   "metadata": {},
   "outputs": [],
   "source": [
    "def objective(trial):\n",
    "    # The objective function should include the following steps:\n",
    "    # 1. extract trial parameters from the trial object\n",
    "    # 2. run the simulation with the trial parameters\n",
    "    # 3. return the simulation score\n",
    "\n",
    "    return 1"
   ]
  },
  {
   "cell_type": "markdown",
   "metadata": {},
   "source": [
    "### 3. Run the optimization in parallel"
   ]
  },
  {
   "cell_type": "code",
   "execution_count": null,
   "metadata": {},
   "outputs": [],
   "source": [
    "%%time\n",
    "\n",
    "from dask.distributed import wait\n",
    "\n",
    "futures = [\n",
    "    client.submit(study.optimize, objective, n_trials=1, pure=False) for _ in range(500)\n",
    "]\n",
    "\n",
    "_ = wait(futures)"
   ]
  },
  {
   "cell_type": "markdown",
   "metadata": {},
   "source": [
    "### 4. Evaluate the results"
   ]
  },
  {
   "cell_type": "code",
   "execution_count": null,
   "metadata": {},
   "outputs": [],
   "source": [
    "print(study.best_params)\n",
    "print(study.best_value)"
   ]
  },
  {
   "cell_type": "code",
   "execution_count": null,
   "metadata": {},
   "outputs": [],
   "source": [
    "from optuna.visualization.matplotlib import plot_optimization_history\n",
    "\n",
    "plot_optimization_history(study);"
   ]
  },
  {
   "cell_type": "markdown",
   "metadata": {},
   "source": [
    "### 5. Clean up"
   ]
  },
  {
   "cell_type": "code",
   "execution_count": null,
   "metadata": {},
   "outputs": [],
   "source": [
    "cluster.shutdown()"
   ]
  }
 ],
 "metadata": {
  "kernelspec": {
   "display_name": ".venv",
   "language": "python",
   "name": "python3"
  },
  "language_info": {
   "codemirror_mode": {
    "name": "ipython",
    "version": 3
   },
   "file_extension": ".py",
   "mimetype": "text/x-python",
   "name": "python",
   "nbconvert_exporter": "python",
   "pygments_lexer": "ipython3",
   "version": "3.13.2"
  }
 },
 "nbformat": 4,
 "nbformat_minor": 2
}
