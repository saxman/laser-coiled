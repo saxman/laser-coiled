{
 "cells": [
  {
   "cell_type": "markdown",
   "metadata": {},
   "source": [
    "# Calibrating LASER-based Models with Optuna and Coiled\n",
    "\n",
    "In this notebook, we'll show you how to calibrate a LASER-based model using [Optuna](https://optuna.org/), and scaling the calibration to the cloud using [Coiled](https://www.coiled.io/).\n",
    "\n",
    "The information from the notebook was derived form the following sources:\n",
    "- [Coiled Hyperparameter Optimization w/Optuna Example](https://docs.coiled.io/user_guide/hpo.html)\n",
    "- [Detailed Coiled+Optuna Examples](https://docs.coiled.io/user_guide/xgboost-hpo.html)\n",
    "- [GitHub Repository for Coiled+Optuna Examples](https://github.com/coiled/dask-xgboost-nyctaxi)\n",
    "- [Starsim Coiled Exmplration](https://github.com/starsimhub/starsim_compute_scaling/tree/main/platforms)\n",
    "- [Katherine's Ax Example](https://github.com/krosenfeld-IDM/sandbox-botorch/blob/main/laser/london/run_service.py)"
   ]
  },
  {
   "cell_type": "markdown",
   "metadata": {},
   "source": [
    "### 1. Set up the cluster"
   ]
  },
  {
   "cell_type": "code",
   "execution_count": 23,
   "metadata": {},
   "outputs": [
    {
     "name": "stderr",
     "output_type": "stream",
     "text": [
      "[2025-03-18 12:06:38,472][INFO    ][coiled] Fetching latest package priorities...\n",
      "[2025-03-18 12:06:38,473][INFO    ][coiled.package_sync] Resolving your local .venv Python environment...\n",
      "[2025-03-18 12:06:38,781][INFO    ][coiled.package_sync] Scanning 121 python packages...\n",
      "[2025-03-18 12:06:40,134][INFO    ][coiled] Running pip check...\n",
      "[2025-03-18 12:06:42,831][INFO    ][coiled] Validating environment...\n",
      "[2025-03-18 12:06:45,035][INFO    ][coiled] Creating wheel for laser-coiled...\n",
      "[2025-03-18 12:06:45,054][INFO    ][coiled] Uploading laser-coiled...\n",
      "[2025-03-18 12:06:45,924][INFO    ][coiled] Requesting package sync build...\n",
      "[2025-03-18 12:06:46,673][INFO    ][coiled] Creating Cluster (name: laser-coiled-optuna, https://cloud.coiled.io/clusters/800709 ). This usually takes 1-2 minutes...\n"
     ]
    }
   ],
   "source": [
    "import coiled\n",
    "\n",
    "cluster = coiled.Cluster(n_workers=20, name=\"laser-coiled-optuna\")\n",
    "client = cluster.get_client()"
   ]
  },
  {
   "cell_type": "markdown",
   "metadata": {},
   "source": [
    "### 2. Set up the study"
   ]
  },
  {
   "cell_type": "code",
   "execution_count": 24,
   "metadata": {},
   "outputs": [
    {
     "name": "stderr",
     "output_type": "stream",
     "text": [
      "/var/folders/53/rsd5v8qj7_55jhks1nf8xwmc0000gn/T/ipykernel_91783/692952978.py:4: ExperimentalWarning: DaskStorage is experimental (supported from v3.1.0). The interface can change in the future.\n",
      "  dask_storage = optuna.integration.DaskStorage(storage=backend_storage)\n"
     ]
    }
   ],
   "source": [
    "import optuna\n",
    "\n",
    "backend_storage = optuna.storages.InMemoryStorage()\n",
    "dask_storage = optuna.integration.DaskStorage(storage=backend_storage)\n",
    "\n",
    "study = optuna.create_study(\n",
    "    direction=\"maximize\",\n",
    "    storage=dask_storage,  # This makes the study Dask-enabled\n",
    "    sampler=optuna.samplers.RandomSampler(),\n",
    ")"
   ]
  },
  {
   "cell_type": "code",
   "execution_count": 25,
   "metadata": {},
   "outputs": [],
   "source": [
    "def objective(trial):\n",
    "    # The objective function should include the following steps:\n",
    "    # 1. extract trial parameters from the trial object\n",
    "    # 2. run the simulation with the trial parameters\n",
    "    # 3. return the simulation score\n",
    "\n",
    "    return 1"
   ]
  },
  {
   "cell_type": "markdown",
   "metadata": {},
   "source": [
    "### 3. Run the optimization in parallel"
   ]
  },
  {
   "cell_type": "code",
   "execution_count": 26,
   "metadata": {},
   "outputs": [
    {
     "name": "stdout",
     "output_type": "stream",
     "text": [
      "CPU times: user 421 ms, sys: 53 ms, total: 474 ms\n",
      "Wall time: 2.21 s\n"
     ]
    }
   ],
   "source": [
    "%%time\n",
    "\n",
    "from dask.distributed import wait\n",
    "\n",
    "futures = [\n",
    "    client.submit(study.optimize, objective, n_trials=1, pure=False) for _ in range(500)\n",
    "]\n",
    "\n",
    "_ = wait(futures)"
   ]
  },
  {
   "cell_type": "markdown",
   "metadata": {},
   "source": [
    "### 4. Evaluate the results"
   ]
  },
  {
   "cell_type": "code",
   "execution_count": 27,
   "metadata": {},
   "outputs": [
    {
     "name": "stdout",
     "output_type": "stream",
     "text": [
      "{}\n",
      "1.0\n"
     ]
    }
   ],
   "source": [
    "print(study.best_params)\n",
    "print(study.best_value)"
   ]
  },
  {
   "cell_type": "code",
   "execution_count": 28,
   "metadata": {},
   "outputs": [
    {
     "name": "stderr",
     "output_type": "stream",
     "text": [
      "/var/folders/53/rsd5v8qj7_55jhks1nf8xwmc0000gn/T/ipykernel_91783/1412238616.py:3: ExperimentalWarning: plot_optimization_history is experimental (supported from v2.2.0). The interface can change in the future.\n",
      "  plot_optimization_history(study);\n"
     ]
    },
    {
     "data": {
      "image/png": "[encoded data removed]",
      "text/plain": [
       "<Figure size 640x480 with 1 Axes>"
      ]
     },
     "metadata": {},
     "output_type": "display_data"
    }
   ],
   "source": [
    "from optuna.visualization.matplotlib import plot_optimization_history\n",
    "\n",
    "plot_optimization_history(study);"
   ]
  },
  {
   "cell_type": "markdown",
   "metadata": {},
   "source": [
    "### 5. Clean up"
   ]
  },
  {
   "cell_type": "code",
   "execution_count": 30,
   "metadata": {},
   "outputs": [
    {
     "name": "stderr",
     "output_type": "stream",
     "text": [
      "[2025-03-18 12:08:56,496][INFO    ][coiled] Cluster 800709 deleted successfully.\n"
     ]
    }
   ],
   "source": [
    "cluster.shutdown()"
   ]
  }
 ],
 "metadata": {
  "kernelspec": {
   "display_name": ".venv",
   "language": "python",
   "name": "python3"
  },
  "language_info": {
   "codemirror_mode": {
    "name": "ipython",
    "version": 3
   },
   "file_extension": ".py",
   "mimetype": "text/x-python",
   "name": "python",
   "nbconvert_exporter": "python",
   "pygments_lexer": "ipython3",
   "version": "3.13.2"
  }
 },
 "nbformat": 4,
 "nbformat_minor": 2
}
